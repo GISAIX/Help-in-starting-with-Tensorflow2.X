{
 "cells": [
  {
   "cell_type": "markdown",
   "metadata": {},
   "source": [
    "[Source on research.google.com](https://colab.research.google.com/github/google/eng-edu/blob/master/ml/cc/exercises/linear_regression_with_synthetic_data.ipynb)"
   ]
  },
  {
   "cell_type": "code",
   "execution_count": 1,
   "metadata": {},
   "outputs": [],
   "source": [
    "# Due to some numpy warnings I had to downgrade numpy to 1.16.1\n",
    "# https://github.com/scikit-image/scikit-image/issues/3655"
   ]
  },
  {
   "cell_type": "code",
   "execution_count": 2,
   "metadata": {},
   "outputs": [],
   "source": [
    "import tensorflow as tf\n",
    "import pandas as pd\n",
    "from matplotlib import pyplot as plt"
   ]
  },
  {
   "cell_type": "markdown",
   "metadata": {},
   "source": [
    "### Build model function"
   ]
  },
  {
   "cell_type": "code",
   "execution_count": 3,
   "metadata": {},
   "outputs": [],
   "source": [
    "# Function that builds an empty model\n",
    "def build_model(my_learning_rate):\n",
    "  \"\"\"Create and compile a simple linear regression model.\"\"\"\n",
    "  # Most simple tf.keras models are sequential. \n",
    "  # A sequential model contains one or more layers.\n",
    "  # Docs: https://keras.io/getting-started/sequential-model-guide/\n",
    "    \n",
    "  model = tf.keras.models.Sequential()\n",
    "\n",
    "  # Describe the topography of the model.\n",
    "  # The topography of a simple linear regression model is a single node in a single layer  \n",
    "  # Docs: https://keras.io/layers/core/\n",
    "    \n",
    "  model.add(tf.keras.layers.Dense(units=1, \n",
    "                                  input_shape=(1,)))\n",
    "\n",
    "  # Compile the model topography into code that \n",
    "  # TensorFlow can efficiently execute. \n",
    "  # Configure training to minimize the model's mean squared error. \n",
    "  # Docs: https://keras.io/models/model/#compile\n",
    "  model.compile(optimizer=tf.keras.optimizers.RMSprop(lr=my_learning_rate),\n",
    "                loss=\"mean_squared_error\",\n",
    "                metrics=[tf.keras.metrics.RootMeanSquaredError()])\n",
    "\n",
    "  return model "
   ]
  },
  {
   "cell_type": "markdown",
   "metadata": {},
   "source": [
    "### Train model function"
   ]
  },
  {
   "cell_type": "code",
   "execution_count": 4,
   "metadata": {},
   "outputs": [
    {
     "name": "stdout",
     "output_type": "stream",
     "text": [
      "Defined create_model and train_model\n"
     ]
    }
   ],
   "source": [
    "def train_model(model, feature, label, epochs, batch_size):\n",
    "  \"\"\"Train the model by feeding it data.\"\"\"\n",
    "\n",
    "  # Feed the feature values and the label values to the \n",
    "  # model. The model will train for the specified number \n",
    "  # of epochs, gradually learning how the feature values\n",
    "  # relate to the label values. \n",
    "  history = model.fit(x=feature,\n",
    "                      y=label,\n",
    "                      batch_size=None,\n",
    "                      epochs=epochs)\n",
    "\n",
    "  # Gather the trained model's weight and bias.\n",
    "  trained_weights = model.get_weights()[0]\n",
    "  trained_bias = model.get_weights()[1]\n",
    "\n",
    "  # The list of epochs is stored separately from the \n",
    "  # rest of history.\n",
    "  epochs = history.epoch\n",
    "  \n",
    "  # Gather the history (a snapshot) of each epoch.\n",
    "  hist = pd.DataFrame(history.history)\n",
    "\n",
    "  # Specifically gather the model's root mean \n",
    "  # squared error at each epoch. \n",
    "  rmse = hist[\"root_mean_squared_error\"]\n",
    "\n",
    "  return trained_weights, trained_bias, epochs, rmse\n",
    "\n",
    "print(\"Defined create_model and train_model\")"
   ]
  },
  {
   "cell_type": "markdown",
   "metadata": {},
   "source": [
    "### Plotting functions"
   ]
  },
  {
   "cell_type": "code",
   "execution_count": 5,
   "metadata": {},
   "outputs": [
    {
     "name": "stdout",
     "output_type": "stream",
     "text": [
      "Defined the plot_the_model and plot_the_loss_curve functions.\n"
     ]
    }
   ],
   "source": [
    "# Define the plotting functions\n",
    "def plot_the_model(trained_weights, trained_bias, feature, label):\n",
    "  \"\"\"Plot the trained model against the training feature and label.\"\"\"\n",
    "\n",
    "  # Label the axes.\n",
    "  plt.xlabel(\"feature\")\n",
    "  plt.ylabel(\"label\")\n",
    "\n",
    "  # Plot the feature values vs. label values.\n",
    "  plt.scatter(feature, label)\n",
    "\n",
    "  # Create a red line representing the model. The red line starts\n",
    "  # at coordinates (x0, y0) and ends at coordinates (x1, y1).\n",
    "  x0 = 0\n",
    "  y0 = trained_bias\n",
    "  x1 = my_feature[-1]\n",
    "  y1 = trained_bias + (trained_weights * x1)\n",
    "  plt.plot([x0, x1], [y0, y1], c='r')\n",
    "\n",
    "  # Render the scatter plot and the red line.\n",
    "  plt.show()\n",
    "\n",
    "def plot_the_loss_curve(epochs, rmse):\n",
    "  \"\"\"Plot the loss curve, which shows loss vs. epoch.\"\"\"\n",
    "\n",
    "  plt.figure()\n",
    "  plt.xlabel(\"Epoch\")\n",
    "  plt.ylabel(\"Root Mean Squared Error\")\n",
    "\n",
    "  plt.plot(epochs, rmse, label=\"Loss\")\n",
    "  plt.legend()\n",
    "  plt.ylim([rmse.min()*0.97, rmse.max()])\n",
    "  plt.show()\n",
    "\n",
    "print(\"Defined the plot_the_model and plot_the_loss_curve functions.\")"
   ]
  },
  {
   "cell_type": "markdown",
   "metadata": {},
   "source": [
    "### Define the dataset"
   ]
  },
  {
   "cell_type": "code",
   "execution_count": 9,
   "metadata": {},
   "outputs": [],
   "source": [
    "my_feature = ([1.0, 2.0,  3.0,  4.0,  5.0,  6.0,  7.0,  8.0,  9.0, 10.0, 11.0, 12.0])\n",
    "my_label   = ([5.0, 8.8,  9.6, 14.2, 18.8, 19.5, 21.4, 26.8, 28.9, 32.0, 33.8, 38.2])"
   ]
  },
  {
   "cell_type": "markdown",
   "metadata": {},
   "source": [
    "### Initialize hyperparameters"
   ]
  },
  {
   "cell_type": "code",
   "execution_count": 14,
   "metadata": {},
   "outputs": [],
   "source": [
    "learning_rate = 0.05\n",
    "epochs = 100\n",
    "my_batch_size = 12"
   ]
  },
  {
   "cell_type": "markdown",
   "metadata": {},
   "source": [
    "### Build and train"
   ]
  },
  {
   "cell_type": "code",
   "execution_count": 15,
   "metadata": {},
   "outputs": [
    {
     "name": "stdout",
     "output_type": "stream",
     "text": [
      "Train on 12 samples\n",
      "Epoch 1/100\n",
      "12/12 [==============================] - 0s 20ms/sample - loss: 139.6857 - root_mean_squared_error: 11.8189\n",
      "Epoch 2/100\n",
      "12/12 [==============================] - 0s 900us/sample - loss: 110.6430 - root_mean_squared_error: 10.5187\n",
      "Epoch 3/100\n",
      "12/12 [==============================] - 0s 1ms/sample - loss: 92.7447 - root_mean_squared_error: 9.6304\n",
      "Epoch 4/100\n",
      "12/12 [==============================] - 0s 1ms/sample - loss: 79.4948 - root_mean_squared_error: 8.9160\n",
      "Epoch 5/100\n",
      "12/12 [==============================] - 0s 1ms/sample - loss: 68.9367 - root_mean_squared_error: 8.3028\n",
      "Epoch 6/100\n",
      "12/12 [==============================] - 0s 1ms/sample - loss: 60.1846 - root_mean_squared_error: 7.7579\n",
      "Epoch 7/100\n",
      "12/12 [==============================] - 0s 888us/sample - loss: 52.7519 - root_mean_squared_error: 7.2631\n",
      "Epoch 8/100\n",
      "12/12 [==============================] - 0s 2ms/sample - loss: 46.3386 - root_mean_squared_error: 6.8072\n",
      "Epoch 9/100\n",
      "12/12 [==============================] - 0s 964us/sample - loss: 40.7443 - root_mean_squared_error: 6.3831\n",
      "Epoch 10/100\n",
      "12/12 [==============================] - 0s 893us/sample - loss: 35.8277 - root_mean_squared_error: 5.9856\n",
      "Epoch 11/100\n",
      "12/12 [==============================] - 0s 1ms/sample - loss: 31.4843 - root_mean_squared_error: 5.6111\n",
      "Epoch 12/100\n",
      "12/12 [==============================] - 0s 862us/sample - loss: 27.6344 - root_mean_squared_error: 5.2568\n",
      "Epoch 13/100\n",
      "12/12 [==============================] - 0s 817us/sample - loss: 24.2150 - root_mean_squared_error: 4.9209\n",
      "Epoch 14/100\n",
      "12/12 [==============================] - 0s 993us/sample - loss: 21.1753 - root_mean_squared_error: 4.6017\n",
      "Epoch 15/100\n",
      "12/12 [==============================] - 0s 1ms/sample - loss: 18.4734 - root_mean_squared_error: 4.2981\n",
      "Epoch 16/100\n",
      "12/12 [==============================] - 0s 896us/sample - loss: 16.0739 - root_mean_squared_error: 4.0092\n",
      "Epoch 17/100\n",
      "12/12 [==============================] - 0s 1ms/sample - loss: 13.9466 - root_mean_squared_error: 3.7345\n",
      "Epoch 18/100\n",
      "12/12 [==============================] - 0s 889us/sample - loss: 12.0650 - root_mean_squared_error: 3.4735\n",
      "Epoch 19/100\n",
      "12/12 [==============================] - 0s 1ms/sample - loss: 10.4058 - root_mean_squared_error: 3.2258\n",
      "Epoch 20/100\n",
      "12/12 [==============================] - 0s 864us/sample - loss: 8.9480 - root_mean_squared_error: 2.9913\n",
      "Epoch 21/100\n",
      "12/12 [==============================] - 0s 1ms/sample - loss: 7.6728 - root_mean_squared_error: 2.7700\n",
      "Epoch 22/100\n",
      "12/12 [==============================] - 0s 2ms/sample - loss: 6.5629 - root_mean_squared_error: 2.5618\n",
      "Epoch 23/100\n",
      "12/12 [==============================] - 0s 2ms/sample - loss: 5.6022 - root_mean_squared_error: 2.3669\n",
      "Epoch 24/100\n",
      "12/12 [==============================] - 0s 2ms/sample - loss: 4.7760 - root_mean_squared_error: 2.1854\n",
      "Epoch 25/100\n",
      "12/12 [==============================] - 0s 2ms/sample - loss: 4.0704 - root_mean_squared_error: 2.0175\n",
      "Epoch 26/100\n",
      "12/12 [==============================] - 0s 2ms/sample - loss: 3.4724 - root_mean_squared_error: 1.8635\n",
      "Epoch 27/100\n",
      "12/12 [==============================] - 0s 1ms/sample - loss: 2.9701 - root_mean_squared_error: 1.7234\n",
      "Epoch 28/100\n",
      "12/12 [==============================] - 0s 2ms/sample - loss: 2.5520 - root_mean_squared_error: 1.5975\n",
      "Epoch 29/100\n",
      "12/12 [==============================] - 0s 2ms/sample - loss: 2.2077 - root_mean_squared_error: 1.4858\n",
      "Epoch 30/100\n",
      "12/12 [==============================] - 0s 1ms/sample - loss: 1.9271 - root_mean_squared_error: 1.3882\n",
      "Epoch 31/100\n",
      "12/12 [==============================] - 0s 2ms/sample - loss: 1.7013 - root_mean_squared_error: 1.3043\n",
      "Epoch 32/100\n",
      "12/12 [==============================] - 0s 2ms/sample - loss: 1.5219 - root_mean_squared_error: 1.2337\n",
      "Epoch 33/100\n",
      "12/12 [==============================] - 0s 2ms/sample - loss: 1.3814 - root_mean_squared_error: 1.1753\n",
      "Epoch 34/100\n",
      "12/12 [==============================] - 0s 2ms/sample - loss: 1.2730 - root_mean_squared_error: 1.1283\n",
      "Epoch 35/100\n",
      "12/12 [==============================] - 0s 2ms/sample - loss: 1.1906 - root_mean_squared_error: 1.0912\n",
      "Epoch 36/100\n",
      "12/12 [==============================] - 0s 2ms/sample - loss: 1.1291 - root_mean_squared_error: 1.0626\n",
      "Epoch 37/100\n",
      "12/12 [==============================] - 0s 2ms/sample - loss: 1.0840 - root_mean_squared_error: 1.0412\n",
      "Epoch 38/100\n",
      "12/12 [==============================] - 0s 2ms/sample - loss: 1.0515 - root_mean_squared_error: 1.0254\n",
      "Epoch 39/100\n",
      "12/12 [==============================] - 0s 3ms/sample - loss: 1.0284 - root_mean_squared_error: 1.0141\n",
      "Epoch 40/100\n",
      "12/12 [==============================] - 0s 2ms/sample - loss: 1.0123 - root_mean_squared_error: 1.0061\n",
      "Epoch 41/100\n",
      "12/12 [==============================] - 0s 2ms/sample - loss: 1.0012 - root_mean_squared_error: 1.0006\n",
      "Epoch 42/100\n",
      "12/12 [==============================] - 0s 2ms/sample - loss: 0.9936 - root_mean_squared_error: 0.9968\n",
      "Epoch 43/100\n",
      "12/12 [==============================] - 0s 1ms/sample - loss: 0.9883 - root_mean_squared_error: 0.9941\n",
      "Epoch 44/100\n",
      "12/12 [==============================] - 0s 2ms/sample - loss: 0.9845 - root_mean_squared_error: 0.9922\n",
      "Epoch 45/100\n",
      "12/12 [==============================] - 0s 2ms/sample - loss: 0.9817 - root_mean_squared_error: 0.9908\n",
      "Epoch 46/100\n",
      "12/12 [==============================] - 0s 1ms/sample - loss: 0.9794 - root_mean_squared_error: 0.9896\n",
      "Epoch 47/100\n",
      "12/12 [==============================] - 0s 2ms/sample - loss: 0.9774 - root_mean_squared_error: 0.9887\n",
      "Epoch 48/100\n",
      "12/12 [==============================] - 0s 2ms/sample - loss: 0.9756 - root_mean_squared_error: 0.9877\n",
      "Epoch 49/100\n",
      "12/12 [==============================] - 0s 1ms/sample - loss: 0.9739 - root_mean_squared_error: 0.9869\n",
      "Epoch 50/100\n",
      "12/12 [==============================] - 0s 2ms/sample - loss: 0.9722 - root_mean_squared_error: 0.9860\n",
      "Epoch 51/100\n",
      "12/12 [==============================] - 0s 1ms/sample - loss: 0.9704 - root_mean_squared_error: 0.9851\n",
      "Epoch 52/100\n",
      "12/12 [==============================] - 0s 2ms/sample - loss: 0.9686 - root_mean_squared_error: 0.9842\n",
      "Epoch 53/100\n",
      "12/12 [==============================] - 0s 2ms/sample - loss: 0.9667 - root_mean_squared_error: 0.9832\n",
      "Epoch 54/100\n",
      "12/12 [==============================] - 0s 2ms/sample - loss: 0.9648 - root_mean_squared_error: 0.9822\n",
      "Epoch 55/100\n",
      "12/12 [==============================] - 0s 2ms/sample - loss: 0.9628 - root_mean_squared_error: 0.9812\n",
      "Epoch 56/100\n",
      "12/12 [==============================] - 0s 2ms/sample - loss: 0.9607 - root_mean_squared_error: 0.9802\n",
      "Epoch 57/100\n",
      "12/12 [==============================] - 0s 1ms/sample - loss: 0.9586 - root_mean_squared_error: 0.9791\n",
      "Epoch 58/100\n",
      "12/12 [==============================] - 0s 1000us/sample - loss: 0.9565 - root_mean_squared_error: 0.9780\n",
      "Epoch 59/100\n",
      "12/12 [==============================] - 0s 2ms/sample - loss: 0.9542 - root_mean_squared_error: 0.9769\n",
      "Epoch 60/100\n",
      "12/12 [==============================] - 0s 2ms/sample - loss: 0.9520 - root_mean_squared_error: 0.9757\n",
      "Epoch 61/100\n",
      "12/12 [==============================] - 0s 2ms/sample - loss: 0.9497 - root_mean_squared_error: 0.9745\n",
      "Epoch 62/100\n",
      "12/12 [==============================] - 0s 3ms/sample - loss: 0.9473 - root_mean_squared_error: 0.9733\n",
      "Epoch 63/100\n",
      "12/12 [==============================] - 0s 2ms/sample - loss: 0.9449 - root_mean_squared_error: 0.9721\n",
      "Epoch 64/100\n",
      "12/12 [==============================] - 0s 2ms/sample - loss: 0.9424 - root_mean_squared_error: 0.9708\n",
      "Epoch 65/100\n",
      "12/12 [==============================] - 0s 2ms/sample - loss: 0.9400 - root_mean_squared_error: 0.9695\n",
      "Epoch 66/100\n",
      "12/12 [==============================] - 0s 2ms/sample - loss: 0.9374 - root_mean_squared_error: 0.9682\n",
      "Epoch 67/100\n",
      "12/12 [==============================] - 0s 3ms/sample - loss: 0.9349 - root_mean_squared_error: 0.9669\n",
      "Epoch 68/100\n",
      "12/12 [==============================] - 0s 2ms/sample - loss: 0.9323 - root_mean_squared_error: 0.9656\n",
      "Epoch 69/100\n",
      "12/12 [==============================] - 0s 2ms/sample - loss: 0.9298 - root_mean_squared_error: 0.9642\n",
      "Epoch 70/100\n",
      "12/12 [==============================] - 0s 2ms/sample - loss: 0.9272 - root_mean_squared_error: 0.9629\n"
     ]
    },
    {
     "name": "stdout",
     "output_type": "stream",
     "text": [
      "Epoch 71/100\n",
      "12/12 [==============================] - 0s 1ms/sample - loss: 0.9246 - root_mean_squared_error: 0.9616\n",
      "Epoch 72/100\n",
      "12/12 [==============================] - 0s 3ms/sample - loss: 0.9220 - root_mean_squared_error: 0.9602\n",
      "Epoch 73/100\n",
      "12/12 [==============================] - 0s 1ms/sample - loss: 0.9194 - root_mean_squared_error: 0.9589\n",
      "Epoch 74/100\n",
      "12/12 [==============================] - 0s 1ms/sample - loss: 0.9169 - root_mean_squared_error: 0.9575\n",
      "Epoch 75/100\n",
      "12/12 [==============================] - 0s 1ms/sample - loss: 0.9144 - root_mean_squared_error: 0.9562\n",
      "Epoch 76/100\n",
      "12/12 [==============================] - 0s 888us/sample - loss: 0.9119 - root_mean_squared_error: 0.9549\n",
      "Epoch 77/100\n",
      "12/12 [==============================] - 0s 1ms/sample - loss: 0.9094 - root_mean_squared_error: 0.9536\n",
      "Epoch 78/100\n",
      "12/12 [==============================] - 0s 986us/sample - loss: 0.9070 - root_mean_squared_error: 0.9524\n",
      "Epoch 79/100\n",
      "12/12 [==============================] - 0s 2ms/sample - loss: 0.9047 - root_mean_squared_error: 0.9511\n",
      "Epoch 80/100\n",
      "12/12 [==============================] - 0s 1ms/sample - loss: 0.9024 - root_mean_squared_error: 0.9499\n",
      "Epoch 81/100\n",
      "12/12 [==============================] - 0s 1ms/sample - loss: 0.9002 - root_mean_squared_error: 0.9488\n",
      "Epoch 82/100\n",
      "12/12 [==============================] - 0s 1ms/sample - loss: 0.8981 - root_mean_squared_error: 0.9477\n",
      "Epoch 83/100\n",
      "12/12 [==============================] - 0s 1ms/sample - loss: 0.8960 - root_mean_squared_error: 0.9466\n",
      "Epoch 84/100\n",
      "12/12 [==============================] - 0s 1ms/sample - loss: 0.8941 - root_mean_squared_error: 0.9456\n",
      "Epoch 85/100\n",
      "12/12 [==============================] - 0s 1ms/sample - loss: 0.8922 - root_mean_squared_error: 0.9446\n",
      "Epoch 86/100\n",
      "12/12 [==============================] - 0s 1ms/sample - loss: 0.8905 - root_mean_squared_error: 0.9437\n",
      "Epoch 87/100\n",
      "12/12 [==============================] - 0s 1ms/sample - loss: 0.8888 - root_mean_squared_error: 0.9428\n",
      "Epoch 88/100\n",
      "12/12 [==============================] - 0s 866us/sample - loss: 0.8873 - root_mean_squared_error: 0.9420\n",
      "Epoch 89/100\n",
      "12/12 [==============================] - 0s 1ms/sample - loss: 0.8858 - root_mean_squared_error: 0.9412\n",
      "Epoch 90/100\n",
      "12/12 [==============================] - 0s 1ms/sample - loss: 0.8845 - root_mean_squared_error: 0.9405\n",
      "Epoch 91/100\n",
      "12/12 [==============================] - 0s 940us/sample - loss: 0.8833 - root_mean_squared_error: 0.9398\n",
      "Epoch 92/100\n",
      "12/12 [==============================] - 0s 1ms/sample - loss: 0.8822 - root_mean_squared_error: 0.9392\n",
      "Epoch 93/100\n",
      "12/12 [==============================] - 0s 998us/sample - loss: 0.8812 - root_mean_squared_error: 0.9387\n",
      "Epoch 94/100\n",
      "12/12 [==============================] - 0s 847us/sample - loss: 0.8803 - root_mean_squared_error: 0.9382\n",
      "Epoch 95/100\n",
      "12/12 [==============================] - 0s 1ms/sample - loss: 0.8795 - root_mean_squared_error: 0.9378\n",
      "Epoch 96/100\n",
      "12/12 [==============================] - 0s 1ms/sample - loss: 0.8788 - root_mean_squared_error: 0.9374\n",
      "Epoch 97/100\n",
      "12/12 [==============================] - 0s 1ms/sample - loss: 0.8786 - root_mean_squared_error: 0.9373\n",
      "Epoch 98/100\n",
      "12/12 [==============================] - 0s 928us/sample - loss: 0.8827 - root_mean_squared_error: 0.9395\n",
      "Epoch 99/100\n",
      "12/12 [==============================] - 0s 1ms/sample - loss: 0.9345 - root_mean_squared_error: 0.9667\n",
      "Epoch 100/100\n",
      "12/12 [==============================] - 0s 1ms/sample - loss: 1.2353 - root_mean_squared_error: 1.1114\n"
     ]
    },
    {
     "data": {
      "image/png": "[encoded data removed]",
      "text/plain": [
       "<Figure size 432x288 with 1 Axes>"
      ]
     },
     "metadata": {
      "needs_background": "light"
     },
     "output_type": "display_data"
    },
    {
     "data": {
      "image/png": "[encoded data removed]",
      "text/plain": [
       "<Figure size 432x288 with 1 Axes>"
      ]
     },
     "metadata": {
      "needs_background": "light"
     },
     "output_type": "display_data"
    }
   ],
   "source": [
    "my_model = build_model(learning_rate)\n",
    "trained_weights, trained_bias, epochs, rmse = train_model(my_model, my_feature, \n",
    "                                                         my_label, epochs,\n",
    "                                                         my_batch_size)\n",
    "plot_the_model(trained_weights, trained_bias, my_feature, my_label)\n",
    "plot_the_loss_curve(epochs, rmse)"
   ]
  },
  {
   "cell_type": "code",
   "execution_count": null,
   "metadata": {},
   "outputs": [],
   "source": []
  }
 ],
 "metadata": {
  "kernelspec": {
   "display_name": "projectname",
   "language": "python",
   "name": "projectname"
  },
  "language_info": {
   "codemirror_mode": {
    "name": "ipython",
    "version": 3
   },
   "file_extension": ".py",
   "mimetype": "text/x-python",
   "name": "python",
   "nbconvert_exporter": "python",
   "pygments_lexer": "ipython3",
   "version": "3.6.9"
  }
 },
 "nbformat": 4,
 "nbformat_minor": 2
}
