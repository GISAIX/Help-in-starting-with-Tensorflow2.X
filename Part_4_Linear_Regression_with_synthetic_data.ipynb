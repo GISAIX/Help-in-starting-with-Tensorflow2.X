{
 "cells": [
  {
   "cell_type": "markdown",
   "metadata": {},
   "source": [
    "[Source on research.google.com](https://colab.research.google.com/github/google/eng-edu/blob/master/ml/cc/exercises/linear_regression_with_synthetic_data.ipynb)"
   ]
  },
  {
   "cell_type": "code",
   "execution_count": 1,
   "metadata": {},
   "outputs": [],
   "source": [
    "# Due to some numpy warnings I had to downgrade numpy to 1.16.1\n",
    "# https://github.com/scikit-image/scikit-image/issues/3655"
   ]
  },
  {
   "cell_type": "code",
   "execution_count": 2,
   "metadata": {},
   "outputs": [],
   "source": [
    "import tensorflow as tf\n",
    "import pandas as pd\n",
    "from matplotlib import pyplot as plt"
   ]
  },
  {
   "cell_type": "markdown",
   "metadata": {},
   "source": [
    "### Build model function"
   ]
  },
  {
   "cell_type": "code",
   "execution_count": 3,
   "metadata": {},
   "outputs": [],
   "source": [
    "# Function that builds an empty model\n",
    "def build_model(my_learning_rate):\n",
    "  \"\"\"Create and compile a simple linear regression model.\"\"\"\n",
    "  # Most simple tf.keras models are sequential. \n",
    "  # A sequential model contains one or more layers.\n",
    "  # Docs: https://keras.io/getting-started/sequential-model-guide/\n",
    "    \n",
    "  model = tf.keras.models.Sequential()\n",
    "\n",
    "  # Describe the topography of the model.\n",
    "  # The topography of a simple linear regression model is a single node in a single layer  \n",
    "  # Docs: https://keras.io/layers/core/\n",
    "    \n",
    "  model.add(tf.keras.layers.Dense(units=1, \n",
    "                                  input_shape=(1,)))\n",
    "\n",
    "  # Compile the model topography into code that \n",
    "  # TensorFlow can efficiently execute. \n",
    "  # Configure training to minimize the model's mean squared error. \n",
    "  # Docs: https://keras.io/models/model/#compile\n",
    "  model.compile(optimizer=tf.keras.optimizers.RMSprop(lr=my_learning_rate),\n",
    "                loss=\"mean_squared_error\",\n",
    "                metrics=[tf.keras.metrics.RootMeanSquaredError()])\n",
    "\n",
    "  return model "
   ]
  },
  {
   "cell_type": "markdown",
   "metadata": {},
   "source": [
    "### Train model function"
   ]
  },
  {
   "cell_type": "code",
   "execution_count": 4,
   "metadata": {},
   "outputs": [
    {
     "name": "stdout",
     "output_type": "stream",
     "text": [
      "Defined create_model and train_model\n"
     ]
    }
   ],
   "source": [
    "def train_model(model, feature, label, epochs, batch_size):\n",
    "  \"\"\"Train the model by feeding it data.\"\"\"\n",
    "\n",
    "  # Feed the feature values and the label values to the \n",
    "  # model. The model will train for the specified number \n",
    "  # of epochs, gradually learning how the feature values\n",
    "  # relate to the label values. \n",
    "  history = model.fit(x=feature,\n",
    "                      y=label,\n",
    "                      batch_size=None,\n",
    "                      epochs=epochs)\n",
    "\n",
    "  # Gather the trained model's weight and bias.\n",
    "  trained_weights = model.get_weights()[0]\n",
    "  trained_bias = model.get_weights()[1]\n",
    "\n",
    "  # The list of epochs is stored separately from the \n",
    "  # rest of history.\n",
    "  epochs = history.epoch\n",
    "  \n",
    "  # Gather the history (a snapshot) of each epoch.\n",
    "  hist = pd.DataFrame(history.history)\n",
    "\n",
    "  # Specifically gather the model's root mean \n",
    "  # squared error at each epoch. \n",
    "  rmse = hist[\"root_mean_squared_error\"]\n",
    "\n",
    "  return trained_weights, trained_bias, epochs, rmse\n",
    "\n",
    "print(\"Defined create_model and train_model\")"
   ]
  },
  {
   "cell_type": "markdown",
   "metadata": {},
   "source": [
    "### Plotting functions"
   ]
  },
  {
   "cell_type": "code",
   "execution_count": 5,
   "metadata": {},
   "outputs": [
    {
     "name": "stdout",
     "output_type": "stream",
     "text": [
      "Defined the plot_the_model and plot_the_loss_curve functions.\n"
     ]
    }
   ],
   "source": [
    "# Define the plotting functions\n",
    "def plot_the_model(trained_weight, trained_bias, feature, label):\n",
    "  \"\"\"Plot the trained model against the training feature and label.\"\"\"\n",
    "\n",
    "  # Label the axes.\n",
    "  plt.xlabel(\"feature\")\n",
    "  plt.ylabel(\"label\")\n",
    "\n",
    "  # Plot the feature values vs. label values.\n",
    "  plt.scatter(feature, label)\n",
    "\n",
    "  # Create a red line representing the model. The red line starts\n",
    "  # at coordinates (x0, y0) and ends at coordinates (x1, y1).\n",
    "  x0 = 0\n",
    "  y0 = trained_bias\n",
    "  x1 = my_feature[-1]\n",
    "  y1 = trained_bias + (trained_weight * x1)\n",
    "  plt.plot([x0, x1], [y0, y1], c='r')\n",
    "\n",
    "  # Render the scatter plot and the red line.\n",
    "  plt.show()\n",
    "\n",
    "def plot_the_loss_curve(epochs, rmse):\n",
    "  \"\"\"Plot the loss curve, which shows loss vs. epoch.\"\"\"\n",
    "\n",
    "  plt.figure()\n",
    "  plt.xlabel(\"Epoch\")\n",
    "  plt.ylabel(\"Root Mean Squared Error\")\n",
    "\n",
    "  plt.plot(epochs, rmse, label=\"Loss\")\n",
    "  plt.legend()\n",
    "  plt.ylim([rmse.min()*0.97, rmse.max()])\n",
    "  plt.show()\n",
    "\n",
    "print(\"Defined the plot_the_model and plot_the_loss_curve functions.\")"
   ]
  },
  {
   "cell_type": "markdown",
   "metadata": {},
   "source": [
    "### Define the dataset"
   ]
  },
  {
   "cell_type": "code",
   "execution_count": 6,
   "metadata": {},
   "outputs": [],
   "source": [
    "my_feature = ([1.0, 2.0,  3.0,  4.0,  5.0,  6.0,  7.0,  8.0,  9.0, 10.0, 11.0, 12.0])\n",
    "my_label   = ([5.0, 8.8,  9.6, 14.2, 18.8, 19.5, 21.4, 26.8, 28.9, 32.0, 33.8, 38.2])"
   ]
  },
  {
   "cell_type": "markdown",
   "metadata": {},
   "source": [
    "### Initialize hyperparameters"
   ]
  },
  {
   "cell_type": "code",
   "execution_count": 7,
   "metadata": {},
   "outputs": [],
   "source": [
    "learning_rate = 0.01\n",
    "epochs = 30\n",
    "my_batch_size = 12"
   ]
  },
  {
   "cell_type": "markdown",
   "metadata": {},
   "source": [
    "### Build and train"
   ]
  },
  {
   "cell_type": "code",
   "execution_count": 8,
   "metadata": {},
   "outputs": [
    {
     "name": "stdout",
     "output_type": "stream",
     "text": [
      "Train on 12 samples\n",
      "Epoch 1/30\n",
      "12/12 [==============================] - 0s 35ms/sample - loss: 555.7509 - root_mean_squared_error: 23.5744\n",
      "Epoch 2/30\n",
      "12/12 [==============================] - 0s 2ms/sample - loss: 543.5200 - root_mean_squared_error: 23.3135\n",
      "Epoch 3/30\n",
      "12/12 [==============================] - 0s 1ms/sample - loss: 534.7784 - root_mean_squared_error: 23.1253\n",
      "Epoch 4/30\n",
      "12/12 [==============================] - 0s 1ms/sample - loss: 527.5366 - root_mean_squared_error: 22.9682\n",
      "Epoch 5/30\n",
      "12/12 [==============================] - 0s 2ms/sample - loss: 521.1649 - root_mean_squared_error: 22.8290\n",
      "Epoch 6/30\n",
      "12/12 [==============================] - 0s 2ms/sample - loss: 515.3714 - root_mean_squared_error: 22.7018\n",
      "Epoch 7/30\n",
      "12/12 [==============================] - 0s 1ms/sample - loss: 509.9938 - root_mean_squared_error: 22.5830\n",
      "Epoch 8/30\n",
      "12/12 [==============================] - 0s 1ms/sample - loss: 504.9311 - root_mean_squared_error: 22.4707\n",
      "Epoch 9/30\n",
      "12/12 [==============================] - 0s 2ms/sample - loss: 500.1158 - root_mean_squared_error: 22.3633\n",
      "Epoch 10/30\n",
      "12/12 [==============================] - 0s 866us/sample - loss: 495.5004 - root_mean_squared_error: 22.2598\n",
      "Epoch 11/30\n",
      "12/12 [==============================] - 0s 886us/sample - loss: 491.0498 - root_mean_squared_error: 22.1596\n",
      "Epoch 12/30\n",
      "12/12 [==============================] - 0s 2ms/sample - loss: 486.7376 - root_mean_squared_error: 22.0621\n",
      "Epoch 13/30\n",
      "12/12 [==============================] - 0s 1ms/sample - loss: 482.5432 - root_mean_squared_error: 21.9669\n",
      "Epoch 14/30\n",
      "12/12 [==============================] - 0s 1ms/sample - loss: 478.4504 - root_mean_squared_error: 21.8735\n",
      "Epoch 15/30\n",
      "12/12 [==============================] - 0s 1ms/sample - loss: 474.4460 - root_mean_squared_error: 21.7818\n",
      "Epoch 16/30\n",
      "12/12 [==============================] - 0s 819us/sample - loss: 470.5194 - root_mean_squared_error: 21.6915\n",
      "Epoch 17/30\n",
      "12/12 [==============================] - 0s 1ms/sample - loss: 466.6616 - root_mean_squared_error: 21.6024\n",
      "Epoch 18/30\n",
      "12/12 [==============================] - 0s 1ms/sample - loss: 462.8651 - root_mean_squared_error: 21.5143\n",
      "Epoch 19/30\n",
      "12/12 [==============================] - 0s 921us/sample - loss: 459.1240 - root_mean_squared_error: 21.4272\n",
      "Epoch 20/30\n",
      "12/12 [==============================] - 0s 1ms/sample - loss: 455.4327 - root_mean_squared_error: 21.3409\n",
      "Epoch 21/30\n",
      "12/12 [==============================] - 0s 980us/sample - loss: 451.7869 - root_mean_squared_error: 21.2553\n",
      "Epoch 22/30\n",
      "12/12 [==============================] - 0s 2ms/sample - loss: 448.1826 - root_mean_squared_error: 21.1703\n",
      "Epoch 23/30\n",
      "12/12 [==============================] - 0s 2ms/sample - loss: 444.6165 - root_mean_squared_error: 21.0859\n",
      "Epoch 24/30\n",
      "12/12 [==============================] - 0s 2ms/sample - loss: 441.0855 - root_mean_squared_error: 21.0020\n",
      "Epoch 25/30\n",
      "12/12 [==============================] - 0s 3ms/sample - loss: 437.5874 - root_mean_squared_error: 20.9186\n",
      "Epoch 26/30\n",
      "12/12 [==============================] - 0s 2ms/sample - loss: 434.1197 - root_mean_squared_error: 20.8355\n",
      "Epoch 27/30\n",
      "12/12 [==============================] - 0s 2ms/sample - loss: 430.6806 - root_mean_squared_error: 20.7528\n",
      "Epoch 28/30\n",
      "12/12 [==============================] - 0s 2ms/sample - loss: 427.2684 - root_mean_squared_error: 20.6705\n",
      "Epoch 29/30\n",
      "12/12 [==============================] - 0s 1ms/sample - loss: 423.8816 - root_mean_squared_error: 20.5884\n",
      "Epoch 30/30\n",
      "12/12 [==============================] - 0s 1ms/sample - loss: 420.5188 - root_mean_squared_error: 20.5066\n"
     ]
    },
    {
     "data": {
      "image/png": "[encoded data removed]",
      "text/plain": [
       "<Figure size 432x288 with 1 Axes>"
      ]
     },
     "metadata": {
      "needs_background": "light"
     },
     "output_type": "display_data"
    },
    {
     "data": {
      "image/png": "[encoded data removed]",
      "text/plain": [
       "<Figure size 432x288 with 1 Axes>"
      ]
     },
     "metadata": {
      "needs_background": "light"
     },
     "output_type": "display_data"
    }
   ],
   "source": [
    "my_model = build_model(learning_rate)\n",
    "trained_weights, trained_bias, epochs, rmse = train_model(my_model, my_feature, \n",
    "                                                         my_label, epochs,\n",
    "                                                         my_batch_size)\n",
    "plot_the_model(trained_weights, trained_bias, my_feature, my_label)\n",
    "plot_the_loss_curve(epochs, rmse)"
   ]
  },
  {
   "cell_type": "code",
   "execution_count": null,
   "metadata": {},
   "outputs": [],
   "source": []
  }
 ],
 "metadata": {
  "kernelspec": {
   "display_name": "projectname",
   "language": "python",
   "name": "projectname"
  },
  "language_info": {
   "codemirror_mode": {
    "name": "ipython",
    "version": 3
   },
   "file_extension": ".py",
   "mimetype": "text/x-python",
   "name": "python",
   "nbconvert_exporter": "python",
   "pygments_lexer": "ipython3",
   "version": "3.6.9"
  }
 },
 "nbformat": 4,
 "nbformat_minor": 2
}
