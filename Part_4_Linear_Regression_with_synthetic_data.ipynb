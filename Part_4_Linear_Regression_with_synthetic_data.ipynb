{
 "cells": [
  {
   "cell_type": "markdown",
   "metadata": {},
   "source": [
    "[Source on research.google.com](https://colab.research.google.com/github/google/eng-edu/blob/master/ml/cc/exercises/linear_regression_with_synthetic_data.ipynb)"
   ]
  },
  {
   "cell_type": "code",
   "execution_count": 1,
   "metadata": {},
   "outputs": [],
   "source": [
    "# Due to some numpy warnings I had to downgrade numpy to 1.16.1\n",
    "# https://github.com/scikit-image/scikit-image/issues/3655"
   ]
  },
  {
   "cell_type": "code",
   "execution_count": 2,
   "metadata": {},
   "outputs": [],
   "source": [
    "import tensorflow as tf\n",
    "import pandas as pd\n",
    "from matplotlib import pyplot as plt"
   ]
  },
  {
   "cell_type": "markdown",
   "metadata": {},
   "source": [
    "### Build model function"
   ]
  },
  {
   "cell_type": "code",
   "execution_count": 3,
   "metadata": {},
   "outputs": [],
   "source": [
    "# Function that builds an empty model\n",
    "def build_model(my_learning_rate):\n",
    "  \"\"\"Create and compile a simple linear regression model.\"\"\"\n",
    "  # Most simple tf.keras models are sequential. \n",
    "  # A sequential model contains one or more layers.\n",
    "  # Docs: https://keras.io/getting-started/sequential-model-guide/\n",
    "    \n",
    "  model = tf.keras.models.Sequential()\n",
    "\n",
    "  # Describe the topography of the model.\n",
    "  # The topography of a simple linear regression model is a single node in a single layer  \n",
    "  # Docs: https://keras.io/layers/core/\n",
    "    \n",
    "  model.add(tf.keras.layers.Dense(units=1, \n",
    "                                  input_shape=(1,)))\n",
    "\n",
    "  # Compile the model topography into code that \n",
    "  # TensorFlow can efficiently execute. \n",
    "  # Configure training to minimize the model's mean squared error. \n",
    "  # Docs: https://keras.io/models/model/#compile\n",
    "  model.compile(optimizer=tf.keras.optimizers.RMSprop(lr=my_learning_rate),\n",
    "                loss=\"mean_squared_error\",\n",
    "                metrics=[tf.keras.metrics.RootMeanSquaredError()])\n",
    "\n",
    "  return model "
   ]
  },
  {
   "cell_type": "markdown",
   "metadata": {},
   "source": [
    "### Train model function"
   ]
  },
  {
   "cell_type": "code",
   "execution_count": 4,
   "metadata": {},
   "outputs": [
    {
     "name": "stdout",
     "output_type": "stream",
     "text": [
      "Defined create_model and train_model\n"
     ]
    }
   ],
   "source": [
    "def train_model(model, feature, label, epochs, batch_size):\n",
    "  \"\"\"Train the model by feeding it data.\"\"\"\n",
    "\n",
    "  # Feed the feature values and the label values to the \n",
    "  # model. The model will train for the specified number \n",
    "  # of epochs, gradually learning how the feature values\n",
    "  # relate to the label values. \n",
    "  history = model.fit(x=feature,\n",
    "                      y=label,\n",
    "                      batch_size=None,\n",
    "                      epochs=epochs)\n",
    "\n",
    "  # Gather the trained model's weight and bias.\n",
    "  trained_weights = model.get_weights()[0]\n",
    "  trained_bias = model.get_weights()[1]\n",
    "\n",
    "  # The list of epochs is stored separately from the \n",
    "  # rest of history.\n",
    "  epochs = history.epoch\n",
    "  \n",
    "  # Gather the history (a snapshot) of each epoch.\n",
    "  hist = pd.DataFrame(history.history)\n",
    "\n",
    "  # Specifically gather the model's root mean \n",
    "  # squared error at each epoch. \n",
    "  rmse = hist[\"root_mean_squared_error\"]\n",
    "\n",
    "  return trained_weights, trained_bias, epochs, rmse\n",
    "\n",
    "print(\"Defined create_model and train_model\")"
   ]
  },
  {
   "cell_type": "markdown",
   "metadata": {},
   "source": [
    "### Plotting functions"
   ]
  },
  {
   "cell_type": "code",
   "execution_count": 5,
   "metadata": {},
   "outputs": [
    {
     "name": "stdout",
     "output_type": "stream",
     "text": [
      "Defined the plot_the_model and plot_the_loss_curve functions.\n"
     ]
    }
   ],
   "source": [
    "# Define the plotting functions\n",
    "def plot_the_model(trained_weights, trained_bias, feature, label):\n",
    "  \"\"\"Plot the trained model against the training feature and label.\"\"\"\n",
    "\n",
    "  # Label the axes.\n",
    "  plt.xlabel(\"feature\")\n",
    "  plt.ylabel(\"label\")\n",
    "\n",
    "  # Plot the feature values vs. label values.\n",
    "  plt.scatter(feature, label)\n",
    "\n",
    "  # Create a red line representing the model. The red line starts\n",
    "  # at coordinates (x0, y0) and ends at coordinates (x1, y1).\n",
    "  x0 = 0\n",
    "  y0 = trained_bias\n",
    "  x1 = my_feature[-1]\n",
    "  y1 = trained_bias + (trained_weights * x1)\n",
    "  plt.plot([x0, x1], [y0, y1], c='r')\n",
    "\n",
    "  # Render the scatter plot and the red line.\n",
    "  plt.show()\n",
    "\n",
    "def plot_the_loss_curve(epochs, rmse):\n",
    "  \"\"\"Plot the loss curve, which shows loss vs. epoch.\"\"\"\n",
    "\n",
    "  plt.figure()\n",
    "  plt.xlabel(\"Epoch\")\n",
    "  plt.ylabel(\"Root Mean Squared Error\")\n",
    "\n",
    "  plt.plot(epochs, rmse, label=\"Loss\")\n",
    "  plt.legend()\n",
    "  plt.ylim([rmse.min()*0.97, rmse.max()])\n",
    "  plt.show()\n",
    "\n",
    "print(\"Defined the plot_the_model and plot_the_loss_curve functions.\")"
   ]
  },
  {
   "cell_type": "markdown",
   "metadata": {},
   "source": [
    "### Define the dataset"
   ]
  },
  {
   "cell_type": "code",
   "execution_count": 6,
   "metadata": {},
   "outputs": [],
   "source": [
    "my_feature = ([1.0, 2.0,  3.0,  4.0,  5.0,  6.0,  7.0,  8.0,  9.0, 10.0, 11.0, 12.0])\n",
    "my_label   = ([5.0, 8.8,  9.6, 14.2, 18.8, 19.5, 21.4, 26.8, 28.9, 32.0, 33.8, 38.2])"
   ]
  },
  {
   "cell_type": "markdown",
   "metadata": {},
   "source": [
    "### Initialize hyperparameters"
   ]
  },
  {
   "cell_type": "code",
   "execution_count": 7,
   "metadata": {},
   "outputs": [],
   "source": [
    "learning_rate = 0.05\n",
    "epochs = 100\n",
    "my_batch_size = 12"
   ]
  },
  {
   "cell_type": "markdown",
   "metadata": {},
   "source": [
    "### Build and train"
   ]
  },
  {
   "cell_type": "code",
   "execution_count": 8,
   "metadata": {},
   "outputs": [
    {
     "name": "stdout",
     "output_type": "stream",
     "text": [
      "Train on 12 samples\n",
      "Epoch 1/100\n",
      "12/12 [==============================] - 1s 54ms/sample - loss: 675.3408 - root_mean_squared_error: 25.9873\n",
      "Epoch 2/100\n",
      "12/12 [==============================] - 0s 878us/sample - loss: 609.2496 - root_mean_squared_error: 24.6830\n",
      "Epoch 3/100\n",
      "12/12 [==============================] - 0s 945us/sample - loss: 564.5491 - root_mean_squared_error: 23.7602\n",
      "Epoch 4/100\n",
      "12/12 [==============================] - 0s 1ms/sample - loss: 528.9879 - root_mean_squared_error: 22.9997\n",
      "Epoch 5/100\n",
      "12/12 [==============================] - 0s 2ms/sample - loss: 498.7604 - root_mean_squared_error: 22.3329\n",
      "Epoch 6/100\n",
      "12/12 [==============================] - 0s 1ms/sample - loss: 472.1204 - root_mean_squared_error: 21.7283\n",
      "Epoch 7/100\n",
      "12/12 [==============================] - 0s 1ms/sample - loss: 448.1019 - root_mean_squared_error: 21.1684\n",
      "Epoch 8/100\n",
      "12/12 [==============================] - 0s 1ms/sample - loss: 426.1073 - root_mean_squared_error: 20.6424\n",
      "Epoch 9/100\n",
      "12/12 [==============================] - 0s 859us/sample - loss: 405.7384 - root_mean_squared_error: 20.1430\n",
      "Epoch 10/100\n",
      "12/12 [==============================] - 0s 1ms/sample - loss: 386.7151 - root_mean_squared_error: 19.6651\n",
      "Epoch 11/100\n",
      "12/12 [==============================] - 0s 2ms/sample - loss: 368.8322 - root_mean_squared_error: 19.2050\n",
      "Epoch 12/100\n",
      "12/12 [==============================] - 0s 1ms/sample - loss: 351.9346 - root_mean_squared_error: 18.7599\n",
      "Epoch 13/100\n",
      "12/12 [==============================] - 0s 1ms/sample - loss: 335.9022 - root_mean_squared_error: 18.3276\n",
      "Epoch 14/100\n",
      "12/12 [==============================] - 0s 1ms/sample - loss: 320.6399 - root_mean_squared_error: 17.9064\n",
      "Epoch 15/100\n",
      "12/12 [==============================] - 0s 2ms/sample - loss: 306.0711 - root_mean_squared_error: 17.4949\n",
      "Epoch 16/100\n",
      "12/12 [==============================] - 0s 1ms/sample - loss: 292.1332 - root_mean_squared_error: 17.0919\n",
      "Epoch 17/100\n",
      "12/12 [==============================] - 0s 3ms/sample - loss: 278.7745 - root_mean_squared_error: 16.6965\n",
      "Epoch 18/100\n",
      "12/12 [==============================] - 0s 1ms/sample - loss: 265.9517 - root_mean_squared_error: 16.3080\n",
      "Epoch 19/100\n",
      "12/12 [==============================] - 0s 2ms/sample - loss: 253.6282 - root_mean_squared_error: 15.9257\n",
      "Epoch 20/100\n",
      "12/12 [==============================] - 0s 1ms/sample - loss: 241.7729 - root_mean_squared_error: 15.5490\n",
      "Epoch 21/100\n",
      "12/12 [==============================] - 0s 2ms/sample - loss: 230.3590 - root_mean_squared_error: 15.1776\n",
      "Epoch 22/100\n",
      "12/12 [==============================] - 0s 1ms/sample - loss: 219.3633 - root_mean_squared_error: 14.8109\n",
      "Epoch 23/100\n",
      "12/12 [==============================] - 0s 2ms/sample - loss: 208.7659 - root_mean_squared_error: 14.4487\n",
      "Epoch 24/100\n",
      "12/12 [==============================] - 0s 2ms/sample - loss: 198.5489 - root_mean_squared_error: 14.0907\n",
      "Epoch 25/100\n",
      "12/12 [==============================] - 0s 1ms/sample - loss: 188.6968 - root_mean_squared_error: 13.7367\n",
      "Epoch 26/100\n",
      "12/12 [==============================] - 0s 721us/sample - loss: 179.1957 - root_mean_squared_error: 13.3864\n",
      "Epoch 27/100\n",
      "12/12 [==============================] - 0s 2ms/sample - loss: 170.0335 - root_mean_squared_error: 13.0397\n",
      "Epoch 28/100\n",
      "12/12 [==============================] - 0s 618us/sample - loss: 161.1989 - root_mean_squared_error: 12.6964\n",
      "Epoch 29/100\n",
      "12/12 [==============================] - 0s 2ms/sample - loss: 152.6820 - root_mean_squared_error: 12.3565\n",
      "Epoch 30/100\n",
      "12/12 [==============================] - 0s 616us/sample - loss: 144.4738 - root_mean_squared_error: 12.0197\n",
      "Epoch 31/100\n",
      "12/12 [==============================] - 0s 456us/sample - loss: 136.5660 - root_mean_squared_error: 11.6861\n",
      "Epoch 32/100\n",
      "12/12 [==============================] - 0s 512us/sample - loss: 128.9509 - root_mean_squared_error: 11.3557\n",
      "Epoch 33/100\n",
      "12/12 [==============================] - 0s 932us/sample - loss: 121.6214 - root_mean_squared_error: 11.0282\n",
      "Epoch 34/100\n",
      "12/12 [==============================] - 0s 1ms/sample - loss: 114.5712 - root_mean_squared_error: 10.7038\n",
      "Epoch 35/100\n",
      "12/12 [==============================] - 0s 2ms/sample - loss: 107.7939 - root_mean_squared_error: 10.3824\n",
      "Epoch 36/100\n",
      "12/12 [==============================] - 0s 2ms/sample - loss: 101.2838 - root_mean_squared_error: 10.0640\n",
      "Epoch 37/100\n",
      "12/12 [==============================] - 0s 1ms/sample - loss: 95.0355 - root_mean_squared_error: 9.7486\n",
      "Epoch 38/100\n",
      "12/12 [==============================] - 0s 1ms/sample - loss: 89.0435 - root_mean_squared_error: 9.4363\n",
      "Epoch 39/100\n",
      "12/12 [==============================] - 0s 1ms/sample - loss: 83.3030 - root_mean_squared_error: 9.1270\n",
      "Epoch 40/100\n",
      "12/12 [==============================] - 0s 826us/sample - loss: 77.8089 - root_mean_squared_error: 8.8209\n",
      "Epoch 41/100\n",
      "12/12 [==============================] - 0s 1ms/sample - loss: 72.5566 - root_mean_squared_error: 8.5180\n",
      "Epoch 42/100\n",
      "12/12 [==============================] - 0s 807us/sample - loss: 67.5413 - root_mean_squared_error: 8.2184\n",
      "Epoch 43/100\n",
      "12/12 [==============================] - 0s 2ms/sample - loss: 62.7584 - root_mean_squared_error: 7.9220\n",
      "Epoch 44/100\n",
      "12/12 [==============================] - 0s 2ms/sample - loss: 58.2033 - root_mean_squared_error: 7.6291\n",
      "Epoch 45/100\n",
      "12/12 [==============================] - 0s 2ms/sample - loss: 53.8716 - root_mean_squared_error: 7.3397\n",
      "Epoch 46/100\n",
      "12/12 [==============================] - 0s 2ms/sample - loss: 49.7585 - root_mean_squared_error: 7.0540\n",
      "Epoch 47/100\n",
      "12/12 [==============================] - 0s 1ms/sample - loss: 45.8596 - root_mean_squared_error: 6.7720\n",
      "Epoch 48/100\n",
      "12/12 [==============================] - 0s 2ms/sample - loss: 42.1702 - root_mean_squared_error: 6.4939\n",
      "Epoch 49/100\n",
      "12/12 [==============================] - 0s 882us/sample - loss: 38.6855 - root_mean_squared_error: 6.2198\n",
      "Epoch 50/100\n",
      "12/12 [==============================] - 0s 2ms/sample - loss: 35.4010 - root_mean_squared_error: 5.9499\n",
      "Epoch 51/100\n",
      "12/12 [==============================] - 0s 979us/sample - loss: 32.3115 - root_mean_squared_error: 5.6843\n",
      "Epoch 52/100\n",
      "12/12 [==============================] - 0s 2ms/sample - loss: 29.4123 - root_mean_squared_error: 5.4233\n",
      "Epoch 53/100\n",
      "12/12 [==============================] - 0s 1ms/sample - loss: 26.6981 - root_mean_squared_error: 5.1670\n",
      "Epoch 54/100\n",
      "12/12 [==============================] - 0s 1ms/sample - loss: 24.1639 - root_mean_squared_error: 4.9157\n",
      "Epoch 55/100\n",
      "12/12 [==============================] - 0s 1ms/sample - loss: 21.8042 - root_mean_squared_error: 4.6695\n",
      "Epoch 56/100\n",
      "12/12 [==============================] - 0s 795us/sample - loss: 19.6135 - root_mean_squared_error: 4.4287\n",
      "Epoch 57/100\n",
      "12/12 [==============================] - 0s 2ms/sample - loss: 17.5862 - root_mean_squared_error: 4.1936\n",
      "Epoch 58/100\n",
      "12/12 [==============================] - 0s 2ms/sample - loss: 15.7165 - root_mean_squared_error: 3.9644\n",
      "Epoch 59/100\n",
      "12/12 [==============================] - 0s 741us/sample - loss: 13.9984 - root_mean_squared_error: 3.7414\n",
      "Epoch 60/100\n",
      "12/12 [==============================] - 0s 2ms/sample - loss: 12.4259 - root_mean_squared_error: 3.5250\n",
      "Epoch 61/100\n",
      "12/12 [==============================] - 0s 1ms/sample - loss: 10.9924 - root_mean_squared_error: 3.3155\n",
      "Epoch 62/100\n",
      "12/12 [==============================] - 0s 1ms/sample - loss: 9.6918 - root_mean_squared_error: 3.1132\n",
      "Epoch 63/100\n",
      "12/12 [==============================] - 0s 744us/sample - loss: 8.5173 - root_mean_squared_error: 2.9184\n",
      "Epoch 64/100\n",
      "12/12 [==============================] - 0s 1ms/sample - loss: 7.4622 - root_mean_squared_error: 2.7317\n",
      "Epoch 65/100\n",
      "12/12 [==============================] - 0s 577us/sample - loss: 6.5196 - root_mean_squared_error: 2.5534\n",
      "Epoch 66/100\n",
      "12/12 [==============================] - 0s 2ms/sample - loss: 5.6827 - root_mean_squared_error: 2.3838\n",
      "Epoch 67/100\n",
      "12/12 [==============================] - 0s 916us/sample - loss: 4.9443 - root_mean_squared_error: 2.2236\n",
      "Epoch 68/100\n",
      "12/12 [==============================] - 0s 1ms/sample - loss: 4.2974 - root_mean_squared_error: 2.0730\n",
      "Epoch 69/100\n",
      "12/12 [==============================] - 0s 2ms/sample - loss: 3.7349 - root_mean_squared_error: 1.9326\n"
     ]
    },
    {
     "name": "stdout",
     "output_type": "stream",
     "text": [
      "Epoch 70/100\n",
      "12/12 [==============================] - 0s 913us/sample - loss: 3.2497 - root_mean_squared_error: 1.8027\n",
      "Epoch 71/100\n",
      "12/12 [==============================] - 0s 688us/sample - loss: 2.8348 - root_mean_squared_error: 1.6837\n",
      "Epoch 72/100\n",
      "12/12 [==============================] - 0s 1ms/sample - loss: 2.4833 - root_mean_squared_error: 1.5759\n",
      "Epoch 73/100\n",
      "12/12 [==============================] - 0s 1ms/sample - loss: 2.1885 - root_mean_squared_error: 1.4794\n",
      "Epoch 74/100\n",
      "12/12 [==============================] - 0s 711us/sample - loss: 1.9439 - root_mean_squared_error: 1.3943\n",
      "Epoch 75/100\n",
      "12/12 [==============================] - 0s 1ms/sample - loss: 1.7433 - root_mean_squared_error: 1.3204\n",
      "Epoch 76/100\n",
      "12/12 [==============================] - 0s 1ms/sample - loss: 1.5808 - root_mean_squared_error: 1.2573\n",
      "Epoch 77/100\n",
      "12/12 [==============================] - 0s 884us/sample - loss: 1.4508 - root_mean_squared_error: 1.2045\n",
      "Epoch 78/100\n",
      "12/12 [==============================] - 0s 990us/sample - loss: 1.3483 - root_mean_squared_error: 1.1611\n",
      "Epoch 79/100\n",
      "12/12 [==============================] - 0s 2ms/sample - loss: 1.2686 - root_mean_squared_error: 1.1263\n",
      "Epoch 80/100\n",
      "12/12 [==============================] - 0s 2ms/sample - loss: 1.2075 - root_mean_squared_error: 1.0989\n",
      "Epoch 81/100\n",
      "12/12 [==============================] - 0s 816us/sample - loss: 1.1615 - root_mean_squared_error: 1.0777\n",
      "Epoch 82/100\n",
      "12/12 [==============================] - 0s 1ms/sample - loss: 1.1272 - root_mean_squared_error: 1.0617\n",
      "Epoch 83/100\n",
      "12/12 [==============================] - 0s 1ms/sample - loss: 1.1021 - root_mean_squared_error: 1.0498\n",
      "Epoch 84/100\n",
      "12/12 [==============================] - 0s 1ms/sample - loss: 1.0839 - root_mean_squared_error: 1.0411\n",
      "Epoch 85/100\n",
      "12/12 [==============================] - 0s 726us/sample - loss: 1.0707 - root_mean_squared_error: 1.0348\n",
      "Epoch 86/100\n",
      "12/12 [==============================] - 0s 948us/sample - loss: 1.0612 - root_mean_squared_error: 1.0302\n",
      "Epoch 87/100\n",
      "12/12 [==============================] - 0s 875us/sample - loss: 1.0543 - root_mean_squared_error: 1.0268\n",
      "Epoch 88/100\n",
      "12/12 [==============================] - 0s 608us/sample - loss: 1.0490 - root_mean_squared_error: 1.0242\n",
      "Epoch 89/100\n",
      "12/12 [==============================] - 0s 818us/sample - loss: 1.0448 - root_mean_squared_error: 1.0222\n",
      "Epoch 90/100\n",
      "12/12 [==============================] - 0s 581us/sample - loss: 1.0413 - root_mean_squared_error: 1.0204\n",
      "Epoch 91/100\n",
      "12/12 [==============================] - 0s 1ms/sample - loss: 1.0382 - root_mean_squared_error: 1.0189\n",
      "Epoch 92/100\n",
      "12/12 [==============================] - 0s 939us/sample - loss: 1.0353 - root_mean_squared_error: 1.0175\n",
      "Epoch 93/100\n",
      "12/12 [==============================] - 0s 1ms/sample - loss: 1.0324 - root_mean_squared_error: 1.0161\n",
      "Epoch 94/100\n",
      "12/12 [==============================] - 0s 1ms/sample - loss: 1.0295 - root_mean_squared_error: 1.0147\n",
      "Epoch 95/100\n",
      "12/12 [==============================] - 0s 666us/sample - loss: 1.0266 - root_mean_squared_error: 1.0132\n",
      "Epoch 96/100\n",
      "12/12 [==============================] - 0s 732us/sample - loss: 1.0236 - root_mean_squared_error: 1.0117\n",
      "Epoch 97/100\n",
      "12/12 [==============================] - 0s 605us/sample - loss: 1.0205 - root_mean_squared_error: 1.0102\n",
      "Epoch 98/100\n",
      "12/12 [==============================] - 0s 1ms/sample - loss: 1.0174 - root_mean_squared_error: 1.0087\n",
      "Epoch 99/100\n",
      "12/12 [==============================] - 0s 648us/sample - loss: 1.0141 - root_mean_squared_error: 1.0070\n",
      "Epoch 100/100\n",
      "12/12 [==============================] - 0s 482us/sample - loss: 1.0108 - root_mean_squared_error: 1.0054\n"
     ]
    },
    {
     "data": {
      "image/png": "[encoded data removed]",
      "text/plain": [
       "<Figure size 432x288 with 1 Axes>"
      ]
     },
     "metadata": {
      "needs_background": "light"
     },
     "output_type": "display_data"
    },
    {
     "data": {
      "image/png": "[encoded data removed]",
      "text/plain": [
       "<Figure size 432x288 with 1 Axes>"
      ]
     },
     "metadata": {
      "needs_background": "light"
     },
     "output_type": "display_data"
    }
   ],
   "source": [
    "my_model = build_model(learning_rate)\n",
    "trained_weights, trained_bias, epochs, rmse = train_model(my_model, my_feature, \n",
    "                                                         my_label, epochs,\n",
    "                                                         my_batch_size)\n",
    "plot_the_model(trained_weights, trained_bias, my_feature, my_label)\n",
    "plot_the_loss_curve(epochs, rmse)"
   ]
  },
  {
   "cell_type": "code",
   "execution_count": null,
   "metadata": {},
   "outputs": [],
   "source": []
  }
 ],
 "metadata": {
  "kernelspec": {
   "display_name": "projectname",
   "language": "python",
   "name": "projectname"
  },
  "language_info": {
   "codemirror_mode": {
    "name": "ipython",
    "version": 3
   },
   "file_extension": ".py",
   "mimetype": "text/x-python",
   "name": "python",
   "nbconvert_exporter": "python",
   "pygments_lexer": "ipython3",
   "version": "3.6.9"
  }
 },
 "nbformat": 4,
 "nbformat_minor": 2
}
