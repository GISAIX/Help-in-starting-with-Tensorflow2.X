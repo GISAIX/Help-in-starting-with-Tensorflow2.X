{
 "cells": [
  {
   "cell_type": "markdown",
   "metadata": {},
   "source": [
    "### [AI Platform Prediction overview](https://cloud.google.com/ai-platform/prediction/docs/overview)"
   ]
  },
  {
   "cell_type": "code",
   "execution_count": 1,
   "metadata": {},
   "outputs": [],
   "source": [
    "# Importing the required modules\n",
    "import os\n",
    "import tensorflow as tf\n",
    "from oauth2client.client import GoogleCredentials\n",
    "from googleapiclient import discovery\n",
    "from googleapiclient import errors"
   ]
  },
  {
   "cell_type": "code",
   "execution_count": 2,
   "metadata": {},
   "outputs": [
    {
     "data": {
      "text/plain": [
       "'\\nWhen you want to use the Google APIs Client Library for Python to call the AI Platform Prediction REST APIs in your code, \\nyou must import its package and the OAuth2 package. \\nFor most standard uses of AI Platform Prediction you only need to import specific modules\\n'"
      ]
     },
     "execution_count": 2,
     "metadata": {},
     "output_type": "execute_result"
    }
   ],
   "source": [
    "\"\"\"\n",
    "When you want to use the Google APIs Client Library for Python to call the AI Platform Prediction REST APIs in your code, \n",
    "you must import its package and the OAuth2 package. \n",
    "For most standard uses of AI Platform Prediction you only need to import specific modules\n",
    "\"\"\""
   ]
  },
  {
   "cell_type": "code",
   "execution_count": 3,
   "metadata": {},
   "outputs": [],
   "source": [
    "# Set path to credentials file as environment variables\n",
    "currentDirectory = os.getcwd()\n",
    "os.environ['GOOGLE_APPLICATION_CREDENTIALS'] = os.path.join(currentDirectory, 'toucanassistant-55361b918986.json')\n"
   ]
  },
  {
   "cell_type": "code",
   "execution_count": 4,
   "metadata": {},
   "outputs": [],
   "source": [
    "# Bucket Storage\n",
    "BUCKET_NAME=\"toucan-assistant-bucket-1\"\n",
    "REGION=\"europe-west3\"\n"
   ]
  },
  {
   "cell_type": "code",
   "execution_count": 5,
   "metadata": {},
   "outputs": [],
   "source": [
    "# Set job name and job folder as environment variables\n",
    "os.environ['JOB_NAME']=\"my_second_keras_job\"\n",
    "os.environ['JOB_DIR']=\"gs://$BUCKET_NAME/keras-job-dir-2\""
   ]
  },
  {
   "cell_type": "markdown",
   "metadata": {},
   "source": [
    "### [Exporting saved models for prediction](https://cloud.google.com/ai-platform/prediction/docs/exporting-savedmodel-for-prediction)"
   ]
  },
  {
   "cell_type": "markdown",
   "metadata": {},
   "source": [
    "<p>A SavedModel is TensorFlow's <b>recommended</b> format for saving models, and it is the required format for deploying trained TensorFlow models on AI Platform Prediction.</p>\n",
    "<p>Exporting your trained model as a SavedModel saves your training graph with its assets, variables and metadata in a format that AI Platform Prediction can consume and restore for predictions.\n",
    "\n",
    "After exporting a SavedModel, you have a SavedModel directory that contains the following:</p>\n",
    "\n",
    "  * your training graph(s), saved in SavedModel protocol buffers\n",
    "  * external files, called assets\n",
    "  * variables, which are saved as checkpoint files"
   ]
  },
  {
   "cell_type": "markdown",
   "metadata": {},
   "source": [
    "<p>When you deploy your SavedModel to AI Platform Prediction, you must include the <b>entire SavedModel directory</b>, not just the SavedModel protocol buffer file that contains your graph and its metadata. This file usually has an extension of either .pb or .pbtxt.</p>\n",
    "\n",
    "<p>The SavedModel allows you to save multiple versions of a graph that share the same assets and variables (or checkpoints). For example, you may want to develop two versions of the same graph: one to run on CPUs, and another to run on GPUs.</p>"
   ]
  },
  {
   "cell_type": "markdown",
   "metadata": {},
   "source": [
    "If you have used Keras for training, use [tf.keras.Model.save](https://www.tensorflow.org/guide/keras/save_and_serialize#export_to_savedmodel) to export a SavedModel\n"
   ]
  },
  {
   "cell_type": "code",
   "execution_count": null,
   "metadata": {},
   "outputs": [],
   "source": []
  }
 ],
 "metadata": {
  "kernelspec": {
   "display_name": "projectname",
   "language": "python",
   "name": "projectname"
  },
  "language_info": {
   "codemirror_mode": {
    "name": "ipython",
    "version": 3
   },
   "file_extension": ".py",
   "mimetype": "text/x-python",
   "name": "python",
   "nbconvert_exporter": "python",
   "pygments_lexer": "ipython3",
   "version": "3.6.9"
  }
 },
 "nbformat": 4,
 "nbformat_minor": 2
}
