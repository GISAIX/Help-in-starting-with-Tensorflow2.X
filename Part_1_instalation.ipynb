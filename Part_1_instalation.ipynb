{
 "cells": [
  {
   "cell_type": "markdown",
   "metadata": {},
   "source": [
    "# TensorFlow 2 quickstart for beginners"
   ]
  },
  {
   "cell_type": "markdown",
   "metadata": {
    "colab_type": "text",
    "id": "rX8mhOLljYeM"
   },
   "source": [
    "##### Prepared by Artur Z. &hearts;"
   ]
  },
  {
   "cell_type": "markdown",
   "metadata": {},
   "source": [
    "### What's coming in TF 2 - [Medium article](https://medium.com/tensorflow/whats-coming-in-tensorflow-2-0-d3663832e9b8)"
   ]
  },
  {
   "cell_type": "code",
   "execution_count": 1,
   "metadata": {
    "cellView": "form",
    "colab": {},
    "colab_type": "code",
    "id": "BZSlp3DAjdYf"
   },
   "outputs": [],
   "source": [
    "# create virtual environment, for example:"
   ]
  },
  {
   "cell_type": "markdown",
   "metadata": {},
   "source": [
    "```python -m venv name_of_venv```"
   ]
  },
  {
   "cell_type": "code",
   "execution_count": 2,
   "metadata": {},
   "outputs": [],
   "source": [
    "# update pip to the newest version (I have 20.0.1, updated from 9.0.1)\n",
    "# you may not install tensorflow==2.0.0 without updating pip"
   ]
  },
  {
   "cell_type": "markdown",
   "metadata": {},
   "source": [
    "```pip install -U pip```"
   ]
  },
  {
   "cell_type": "code",
   "execution_count": 3,
   "metadata": {},
   "outputs": [],
   "source": [
    "# packages to install are already in file requirements.txt\n",
    "# they are listed below\n"
   ]
  },
  {
   "cell_type": "code",
   "execution_count": 1,
   "metadata": {},
   "outputs": [
    {
     "name": "stdout",
     "output_type": "stream",
     "text": [
      "absl-py==0.9.0\n",
      "\n",
      "astor==0.8.1\n",
      "\n",
      "backcall==0.1.0\n",
      "\n",
      "cachetools==4.1.0\n",
      "\n",
      "certifi==2020.4.5.1\n",
      "\n",
      "chardet==3.0.4\n",
      "\n",
      "cycler==0.10.0\n",
      "\n",
      "decorator==4.4.2\n",
      "\n",
      "gast==0.2.2\n",
      "\n",
      "google-api-core==1.17.0\n",
      "\n",
      "google-api-python-client==1.8.0\n",
      "\n",
      "google-auth==1.14.0\n",
      "\n",
      "google-auth-httplib2==0.0.3\n",
      "\n",
      "google-auth-oauthlib==0.4.1\n",
      "\n",
      "google-pasta==0.2.0\n",
      "\n",
      "googleapis-common-protos==1.51.0\n",
      "\n",
      "grpcio==1.28.1\n",
      "\n",
      "h5py==2.10.0\n",
      "\n",
      "httplib2==0.17.2\n",
      "\n",
      "idna==2.9\n",
      "\n",
      "ipykernel==5.2.0\n",
      "\n",
      "ipython==7.13.0\n",
      "\n",
      "ipython-genutils==0.2.0\n",
      "\n",
      "jedi==0.16.0\n",
      "\n",
      "jupyter-client==6.1.2\n",
      "\n",
      "jupyter-core==4.6.3\n",
      "\n",
      "Keras-Applications==1.0.8\n",
      "\n",
      "Keras-Preprocessing==1.1.0\n",
      "\n",
      "kiwisolver==1.2.0\n",
      "\n",
      "Markdown==3.2.1\n",
      "\n",
      "matplotlib==3.2.1\n",
      "\n",
      "numpy==1.16.1\n",
      "\n",
      "oauth2client==4.1.3\n",
      "\n",
      "oauthlib==3.1.0\n",
      "\n",
      "opt-einsum==3.2.0\n",
      "\n",
      "pandas==1.0.3\n",
      "\n",
      "parso==0.6.2\n",
      "\n",
      "pexpect==4.8.0\n",
      "\n",
      "pickleshare==0.7.5\n",
      "\n",
      "pkg-resources==0.0.0\n",
      "\n",
      "prompt-toolkit==3.0.5\n",
      "\n",
      "protobuf==3.11.3\n",
      "\n",
      "ptyprocess==0.6.0\n",
      "\n",
      "pyasn1==0.4.8\n",
      "\n",
      "pyasn1-modules==0.2.8\n",
      "\n",
      "Pygments==2.6.1\n",
      "\n",
      "pyparsing==2.4.7\n",
      "\n",
      "python-dateutil==2.8.1\n",
      "\n",
      "pytz==2019.3\n",
      "\n",
      "pyzmq==19.0.0\n",
      "\n",
      "requests==2.23.0\n",
      "\n",
      "requests-oauthlib==1.3.0\n",
      "\n",
      "rsa==4.0\n",
      "\n",
      "scipy==1.4.1\n",
      "\n",
      "six==1.14.0\n",
      "\n",
      "tensorboard==2.1.1\n",
      "\n",
      "tensorflow-estimator==2.1.0\n",
      "\n",
      "tensorflow-gpu==2.1.0\n",
      "\n",
      "termcolor==1.1.0\n",
      "\n",
      "tornado==6.0.4\n",
      "\n",
      "traitlets==4.3.3\n",
      "\n",
      "uritemplate==3.0.1\n",
      "\n",
      "urllib3==1.25.8\n",
      "\n",
      "wcwidth==0.1.9\n",
      "\n",
      "Werkzeug==1.0.1\n",
      "\n",
      "wrapt==1.12.1\n",
      "\n"
     ]
    }
   ],
   "source": [
    "with open('requirements.txt', 'r+') as f:\n",
    "    for line in f:\n",
    "        print(line)"
   ]
  },
  {
   "cell_type": "code",
   "execution_count": 5,
   "metadata": {},
   "outputs": [],
   "source": [
    "# install packages from requirements.txt:"
   ]
  },
  {
   "cell_type": "markdown",
   "metadata": {},
   "source": [
    "```pip install -r requirements.txt```"
   ]
  },
  {
   "cell_type": "code",
   "execution_count": 6,
   "metadata": {},
   "outputs": [],
   "source": [
    "# change kernel in Jupyter, on that which uses our installed packages in virtual environment\n",
    "# https://stackoverflow.com/questions/51199127/how-to-link-virutualenvwrapper-with-jupyter-notebook\n",
    "# for example:"
   ]
  },
  {
   "cell_type": "markdown",
   "metadata": {},
   "source": [
    "```ipython kernel install --user --name=your_selected_kernel_name```"
   ]
  },
  {
   "cell_type": "code",
   "execution_count": 7,
   "metadata": {},
   "outputs": [],
   "source": [
    "# Let's start"
   ]
  },
  {
   "cell_type": "code",
   "execution_count": 8,
   "metadata": {
    "colab": {},
    "colab_type": "code",
    "id": "0trJmd6DjqBZ"
   },
   "outputs": [],
   "source": [
    "import tensorflow as tf"
   ]
  },
  {
   "cell_type": "code",
   "execution_count": 9,
   "metadata": {},
   "outputs": [
    {
     "name": "stdout",
     "output_type": "stream",
     "text": [
      "Version of Tensorflow:  2.1.0\n"
     ]
    }
   ],
   "source": [
    "# Checking version of TF\n",
    "print(\"Version of Tensorflow: \", tf.__version__)"
   ]
  },
  {
   "cell_type": "code",
   "execution_count": null,
   "metadata": {},
   "outputs": [],
   "source": []
  }
 ],
 "metadata": {
  "colab": {
   "collapsed_sections": [
    "rX8mhOLljYeM"
   ],
   "name": "beginner.ipynb",
   "private_outputs": true,
   "provenance": [],
   "toc_visible": true
  },
  "kernelspec": {
   "display_name": "projectname",
   "language": "python",
   "name": "projectname"
  },
  "language_info": {
   "codemirror_mode": {
    "name": "ipython",
    "version": 3
   },
   "file_extension": ".py",
   "mimetype": "text/x-python",
   "name": "python",
   "nbconvert_exporter": "python",
   "pygments_lexer": "ipython3",
   "version": "3.6.9"
  }
 },
 "nbformat": 4,
 "nbformat_minor": 1
}
